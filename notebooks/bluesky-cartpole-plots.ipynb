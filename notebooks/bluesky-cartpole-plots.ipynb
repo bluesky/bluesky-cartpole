{
 "cells": [
  {
   "cell_type": "code",
   "execution_count": null,
   "metadata": {
    "scrolled": true
   },
   "outputs": [],
   "source": [
    "import databroker"
   ]
  },
  {
   "cell_type": "code",
   "execution_count": null,
   "metadata": {},
   "outputs": [],
   "source": [
    "databroker.catalog()"
   ]
  },
  {
   "cell_type": "code",
   "execution_count": null,
   "metadata": {},
   "outputs": [],
   "source": [
    "list(databroker.catalog())"
   ]
  },
  {
   "cell_type": "code",
   "execution_count": null,
   "metadata": {},
   "outputs": [],
   "source": [
    "bc_catalog = databroker.catalog[\"bluesky-cartpole\"]"
   ]
  },
  {
   "cell_type": "code",
   "execution_count": null,
   "metadata": {
    "scrolled": true
   },
   "outputs": [],
   "source": [
    "list(bc_catalog)"
   ]
  },
  {
   "cell_type": "code",
   "execution_count": null,
   "metadata": {},
   "outputs": [],
   "source": [
    "training_run_ = bc_catalog[\"b21a\"] # d78f, c406"
   ]
  },
  {
   "cell_type": "code",
   "execution_count": null,
   "metadata": {
    "scrolled": true
   },
   "outputs": [],
   "source": [
    "list(training_run_)"
   ]
  },
  {
   "cell_type": "code",
   "execution_count": null,
   "metadata": {},
   "outputs": [],
   "source": [
    "training_run_data_ = training_run_.primary.read()"
   ]
  },
  {
   "cell_type": "code",
   "execution_count": null,
   "metadata": {},
   "outputs": [],
   "source": [
    "training_run_data_"
   ]
  },
  {
   "cell_type": "code",
   "execution_count": null,
   "metadata": {},
   "outputs": [],
   "source": [
    "training_run_data_.cartpole_average_evaluation_reward.plot()"
   ]
  },
  {
   "cell_type": "code",
   "execution_count": null,
   "metadata": {},
   "outputs": [],
   "source": [
    "# how many episodes? count the values greater than 0 in cartpole terminal\n",
    "episode_i_ = 0\n",
    "episode_rewards_ = [0.0]\n",
    "evaluation_episodes_ = []\n",
    "evaluation_rewards_ = [0.0]\n",
    "for reward_, terminal_, evaluation_reward_ in zip(\n",
    "        training_run_data_.cartpole_reward,\n",
    "        training_run_data_.cartpole_terminal,\n",
    "        training_run_data_.cartpole_average_evaluation_reward):\n",
    "    if terminal_ == 0:\n",
    "        episode_rewards_[-1] += reward_\n",
    "        episode_i_ += 1\n",
    "    else:\n",
    "        episode_rewards_.append(0.0)\n",
    "    if evaluation_reward_ > 0.0:\n",
    "        evaluation_rewards_.append(evaluation_reward_)\n",
    "        evaluation_episodes_.append(episode_i_)\n",
    "# the last episode is not real\n",
    "episode_rewards_.pop(-1)\n",
    "evaluation_rewards_.pop(-1)  # is this necessary? helpful?\n",
    "print(f\"episode rewards: {len(episode_rewards_)}\")\n",
    "print(f\"evaluation rewards: {len(evaluation_rewards_)}\")\n",
    "print(f\"evaluation episodes: {len(evaluation_episodes_)}\")"
   ]
  },
  {
   "cell_type": "code",
   "execution_count": null,
   "metadata": {},
   "outputs": [],
   "source": [
    "import matplotlib.pyplot as plt\n",
    "import xarray as xr"
   ]
  },
  {
   "cell_type": "code",
   "execution_count": null,
   "metadata": {},
   "outputs": [],
   "source": [
    "episode_rewards_da_ = xr.DataArray(episode_rewards_)\n",
    "episode_rewards_da_"
   ]
  },
  {
   "cell_type": "code",
   "execution_count": null,
   "metadata": {},
   "outputs": [],
   "source": [
    "evaluation_rewards_da_ = xr.DataArray(evaluation_rewards_)\n",
    "evaluation_rewards_da_"
   ]
  },
  {
   "cell_type": "code",
   "execution_count": null,
   "metadata": {},
   "outputs": [],
   "source": [
    "figure, ax = plt.subplots()\n",
    "ax.plot(range(episode_rewards_da_.shape[0]), episode_rewards_da_)\n",
    "ax.plot(range(len(episode_rewards_)), episode_rewards_da_.rolling(dim_0=10).mean())"
   ]
  },
  {
   "cell_type": "code",
   "execution_count": null,
   "metadata": {},
   "outputs": [],
   "source": [
    "tr_run_data = bc_catalog[\"b21a\"].primary.read()"
   ]
  },
  {
   "cell_type": "code",
   "execution_count": null,
   "metadata": {},
   "outputs": [],
   "source": [
    "tr_run_data.cartpole_average_evaluation_reward"
   ]
  },
  {
   "cell_type": "code",
   "execution_count": null,
   "metadata": {},
   "outputs": [],
   "source": [
    "float(tr_run_data.cartpole_average_evaluation_reward[0])"
   ]
  },
  {
   "cell_type": "code",
   "execution_count": null,
   "metadata": {},
   "outputs": [],
   "source": [
    "import datetime\n",
    "def plot_episode_reward_for_training_run(partial_run_id, plot_point_count=-1):    \n",
    "    training_run = bc_catalog[partial_run_id]\n",
    "\n",
    "    print(training_run.metadata[\"start\"])\n",
    "    human_time = datetime.datetime.fromtimestamp(\n",
    "        training_run.metadata[\"start\"][\"time\"]\n",
    "    ).isoformat()\n",
    "\n",
    "    training_run_data = training_run.primary.read()\n",
    "    training_run_data\n",
    "    # how many episodes? count the values greater than 0 in cartpole terminal\n",
    "    episode_i = 0\n",
    "    evaluation_episodes = []\n",
    "    episode_rewards = [0.0]\n",
    "    evaluation_rewards = [0.0]\n",
    "    for reward, terminal, evaluation_reward in zip(\n",
    "        training_run_data.cartpole_reward,\n",
    "        training_run_data.cartpole_terminal,\n",
    "        training_run_data.cartpole_average_evaluation_reward\n",
    "    ):\n",
    "        if terminal == 0:\n",
    "            episode_rewards[-1] += reward\n",
    "        else:\n",
    "            episode_rewards.append(0.0)\n",
    "            episode_i += 1\n",
    "\n",
    "        if evaluation_reward > 0.0:\n",
    "            #print(f\"evaluation reward: {evaluation_reward}\")\n",
    "            evaluation_rewards.append(float(evaluation_reward))\n",
    "            evaluation_episodes.append(episode_i)\n",
    "    # the last episode is not real\n",
    "    episode_rewards.pop(-1)\n",
    "    evaluation_rewards.pop(-1)\n",
    "    print(f\"{len(episode_rewards)} training episodes\")\n",
    "    print(f\"{len(evaluation_rewards)} evaluations\")\n",
    "\n",
    "    episode_rewards_da = xr.DataArray(episode_rewards)\n",
    "    episode_rewards_da_trimmed = episode_rewards_da[:plot_point_count]\n",
    "\n",
    "    #print(f\"evaluation episodes: {evaluation_episodes}\")\n",
    "    #print(f\"evaluation rewards:  {evaluation_rewards}\")\n",
    "    \n",
    "    #evaluation_rewards_da = xr.DataArray(evaluation_rewards)\n",
    "    #evaluation_rewards_da_trimmed = evaluation_rewards_da[:plot_point_count]\n",
    "\n",
    "    figure, ax = plt.subplots()\n",
    "    ax.plot(\n",
    "        range(episode_rewards_da_trimmed.shape[0]),\n",
    "        episode_rewards_da_trimmed,\n",
    "        label=\"training reward\",\n",
    "        alpha=0.5\n",
    "    )\n",
    "    ax.plot(\n",
    "        range(episode_rewards_da_trimmed.shape[0]),\n",
    "        episode_rewards_da_trimmed.rolling(dim_0=20).mean(),\n",
    "        label=\"training reward moving average\"\n",
    "    )\n",
    "    # how many evaluation episodes should be plotted?\n",
    "    evaluation_episodes_trimmed = [i for i in evaluation_episodes if i < episode_rewards_da_trimmed.shape[0]]\n",
    "    print(f\"evaluation_episodes_trimmed: {evaluation_episodes_trimmed}\")\n",
    "    ax.plot(\n",
    "        evaluation_episodes_trimmed,\n",
    "        evaluation_rewards[:len(evaluation_episodes_trimmed)],\n",
    "        label=\"evaluation reward\"\n",
    "    )\n",
    "\n",
    "    #print(\"evaluation_rewards: \", evaluation_rewards)\n",
    "    #print(\"evaluation_episodes: \", evaluation_episodes)\n",
    "\n",
    "    agent = training_run.metadata[\"start\"][\"agent_name\"].upper()\n",
    "    ax.set_title(f\"bluesky-cartpole {agent}\")\n",
    "    ax.set_xlabel(\"training episode\")\n",
    "    ax.set_ylabel(\"episode reward\")\n",
    "    ax.set_ylim(bottom=0, top=500)\n",
    "    ax.legend()\n",
    "    \n",
    "    plt.savefig(f\"bluesky-cartpole-{agent}-{episode_rewards_da_trimmed.shape[0]}.svg\")"
   ]
  },
  {
   "cell_type": "code",
   "execution_count": null,
   "metadata": {},
   "outputs": [],
   "source": [
    "### plot_episode_reward_for_training_run(partial_run_id=\"279a\", plot_point_count=200)"
   ]
  },
  {
   "cell_type": "code",
   "execution_count": null,
   "metadata": {},
   "outputs": [],
   "source": [
    "#plot_episode_reward_for_training_run(partial_run_id=\"1bcf\", plot_point_count=200)"
   ]
  },
  {
   "cell_type": "code",
   "execution_count": null,
   "metadata": {},
   "outputs": [],
   "source": [
    "plot_episode_reward_for_training_run(partial_run_id=\"b21a\") #6eb?, c406"
   ]
  },
  {
   "cell_type": "code",
   "execution_count": null,
   "metadata": {},
   "outputs": [],
   "source": [
    "plot_episode_reward_for_training_run(partial_run_id=\"ceea\", plot_point_count=1000)"
   ]
  },
  {
   "cell_type": "code",
   "execution_count": null,
   "metadata": {},
   "outputs": [],
   "source": [
    "plot_episode_reward_for_training_run(partial_run_id=\"c406\", plot_point_count=200)"
   ]
  },
  {
   "cell_type": "code",
   "execution_count": null,
   "metadata": {},
   "outputs": [],
   "source": [
    "plot_episode_reward_for_training_run(partial_run_id=\"ceea\", plot_point_count=200)"
   ]
  },
  {
   "cell_type": "code",
   "execution_count": null,
   "metadata": {},
   "outputs": [],
   "source": []
  },
  {
   "cell_type": "code",
   "execution_count": null,
   "metadata": {},
   "outputs": [],
   "source": []
  }
 ],
 "metadata": {
  "kernelspec": {
   "display_name": "Python 3",
   "language": "python",
   "name": "python3"
  },
  "language_info": {
   "codemirror_mode": {
    "name": "ipython",
    "version": 3
   },
   "file_extension": ".py",
   "mimetype": "text/x-python",
   "name": "python",
   "nbconvert_exporter": "python",
   "pygments_lexer": "ipython3",
   "version": "3.8.2"
  }
 },
 "nbformat": 4,
 "nbformat_minor": 4
}